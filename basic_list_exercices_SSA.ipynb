{
 "cells": [
  {
   "cell_type": "markdown",
   "metadata": {},
   "source": [
    "## LIST MANIPULATION IN PYTHON"
   ]
  },
  {
   "cell_type": "markdown",
   "metadata": {},
   "source": [
    "## A. match_ends"
   ]
  },
  {
   "cell_type": "markdown",
   "metadata": {},
   "source": [
    "Given a list of strings, return the count of the number of strings where the string length is 2 or more and the first and last chars of the string are the same.\n",
    "\n",
    "Note: python does not have a ++ operator, but += works."
   ]
  },
  {
   "cell_type": "code",
   "execution_count": 4,
   "metadata": {
    "collapsed": false
   },
   "outputs": [
    {
     "name": "stdout",
     "output_type": "stream",
     "text": [
      "2\n"
     ]
    }
   ],
   "source": [
    "#def match_ends(words):\n",
    "    # +++your code here+++\n",
    "list1 = ['a', 'bye', 'soooooos', 'do', 'randomr']\n",
    "count = 0\n",
    "for word in list1:\n",
    "    if len(word) > 1 and word[0] == word[-1]:\n",
    "        count += 1\n",
    "print  count\n",
    "#    return"
   ]
  },
  {
   "cell_type": "markdown",
   "metadata": {},
   "source": [
    "## B. front_x"
   ]
  },
  {
   "cell_type": "markdown",
   "metadata": {},
   "source": [
    "Given a list of strings, return a list with the strings in sorted order, except group all the strings that begin with 'x' first.\n",
    "\n",
    "e.g. ['mix', 'xyz', 'apple', 'xanadu', 'aardvark'] yields\n",
    "['xanadu', 'xyz', 'aardvark', 'apple', 'mix']\n",
    "\n",
    "Hint: this can be done by making 2 lists and sorting each of them before combining them."
   ]
  },
  {
   "cell_type": "code",
   "execution_count": 4,
   "metadata": {
    "collapsed": false
   },
   "outputs": [
    {
     "name": "stdout",
     "output_type": "stream",
     "text": [
      "['xyz', 'xanadu']\n",
      "['mix', 'apple', 'aardvark']\n"
     ]
    }
   ],
   "source": [
    "#def front_x(words):\n",
    "\n",
    "list1=['mix', 'xyz', 'apple', 'xanadu', 'aardvark']\n",
    "listx=[]\n",
    "listrest=[]\n",
    "for word in list1:\n",
    "    if word.startswith('x'):\n",
    "     listx.append(word)\n",
    "    else:\n",
    "        listrest.append(word)\n",
    "\n",
    "def combine_list(listx,listrest):        \n",
    "        listx.sort(cmp=None, key=None, reverse=False)\n",
    "        listrest.sort(cmp=None, key=None, reverse=False)\n",
    "        list_new=[]        \n",
    "       \n",
    "         \n",
    "print  listx\n",
    "print  listrest\n",
    "#return"
   ]
  },
  {
   "cell_type": "markdown",
   "metadata": {},
   "source": [
    "## C. sort_last"
   ]
  },
  {
   "cell_type": "markdown",
   "metadata": {},
   "source": [
    "Given a list of non-empty tuples, return a list sorted in increasing order by the last element in each tuple.\n",
    "\n",
    "e.g. [(1, 7), (1, 3), (3, 4, 5), (2, 2)] yields\n",
    "[(2, 2), (1, 3), (3, 4, 5), (1, 7)]\n",
    "\n",
    "Hint: use a custom key= function to extract the last element form each tuple."
   ]
  },
  {
   "cell_type": "code",
   "execution_count": 6,
   "metadata": {
    "collapsed": false
   },
   "outputs": [
    {
     "data": {
      "text/plain": [
       "[(2, 2), (1, 3), (3, 4, 5), (1, 7)]"
      ]
     },
     "execution_count": 6,
     "metadata": {},
     "output_type": "execute_result"
    }
   ],
   "source": [
    "#def sort_last(tuples):\n",
    "\n",
    "tuples=(1, 7), (1, 3), (3, 4, 5), (2, 2)\n",
    "sorted(tuples,key=lambda tup:tup[-1], reverse=False)\n",
    "#    return"
   ]
  },
  {
   "cell_type": "markdown",
   "metadata": {},
   "source": [
    "Simple provided test() function used in main() to print what each function returns vs. what it's supposed to return."
   ]
  },
  {
   "cell_type": "code",
   "execution_count": 7,
   "metadata": {
    "collapsed": true
   },
   "outputs": [],
   "source": [
    "def test(got, expected):\n",
    "    if got == expected:\n",
    "        prefix = ' OK '\n",
    "    else:\n",
    "        prefix = '  X '\n",
    "    print '%s got: %s expected: %s' % (prefix, repr(got), repr(expected))"
   ]
  },
  {
   "cell_type": "markdown",
   "metadata": {},
   "source": [
    "Calls the above functions with interesting inputs."
   ]
  },
  {
   "cell_type": "code",
   "execution_count": 11,
   "metadata": {
    "collapsed": true
   },
   "outputs": [],
   "source": [
    "def main():\n",
    "    print 'match_ends'\n",
    "    test(match_ends(['aba', 'xyz', 'aa', 'x', 'bbb']), 3)\n",
    "    test(match_ends(['', 'x', 'xy', 'xyx', 'xx']), 2)\n",
    "    test(match_ends(['aaa', 'be', 'abc', 'hello']), 1)\n",
    "\n",
    "    print\n",
    "    print 'front_x'\n",
    "    test(front_x(['bbb', 'ccc', 'axx', 'xzz', 'xaa']),\n",
    "        ['xaa', 'xzz', 'axx', 'bbb', 'ccc'])\n",
    "    test(front_x(['ccc', 'bbb', 'aaa', 'xcc', 'xaa']),\n",
    "        ['xaa', 'xcc', 'aaa', 'bbb', 'ccc'])\n",
    "    test(front_x(['mix', 'xyz', 'apple', 'xanadu', 'aardvark']),\n",
    "        ['xanadu', 'xyz', 'aardvark', 'apple', 'mix'])\n",
    "     "
   ]
  },
  {
   "cell_type": "markdown",
   "metadata": {},
   "source": [
    "We call the main function."
   ]
  },
  {
   "cell_type": "code",
   "execution_count": null,
   "metadata": {
    "collapsed": true
   },
   "outputs": [],
   "source": [
    "main()"
   ]
  },
  {
   "cell_type": "markdown",
   "metadata": {},
   "source": [
    "## D. remove_adjacent"
   ]
  },
  {
   "cell_type": "markdown",
   "metadata": {},
   "source": [
    "Given a list of numbers, return a list where all adjacent == elements have been reduced to a single element, so [1, 2, 2, 3] returns [1, 2, 3]. You may create a new list or modify the passed in list."
   ]
  },
  {
   "cell_type": "code",
   "execution_count": 20,
   "metadata": {
    "collapsed": false
   },
   "outputs": [
    {
     "name": "stdout",
     "output_type": "stream",
     "text": [
      "[1, 2, 3]\n"
     ]
    }
   ],
   "source": [
    "#def remove_adjacent(nums):\n",
    "a = [1,2,2,3]\n",
    "\n",
    "list = []\n",
    "p = None\n",
    "for n in a:\n",
    "        if n == p:\n",
    "            continue\n",
    "        list.append(n)\n",
    "        p = n \n",
    "print list\n",
    "    #return"
   ]
  },
  {
   "cell_type": "markdown",
   "metadata": {},
   "source": [
    "## E. linear_merge"
   ]
  },
  {
   "cell_type": "markdown",
   "metadata": {},
   "source": [
    "Given two lists sorted in increasing order, create and return a merged list of all the elements in sorted order. You may modify the passed in lists. Ideally, the solution should work in \"linear\" time, making a single pass of both lists."
   ]
  },
  {
   "cell_type": "code",
   "execution_count": 30,
   "metadata": {
    "collapsed": false
   },
   "outputs": [],
   "source": [
    "#def linear_merge(list1, list2):\n",
    "list1=['5','4','3','2','1']\n",
    "list2=['7','6','5','4','3']\n",
    "\n",
    "result = []\n",
    "while len(list1) and len(list2):\n",
    "    if list1[0] < list2[0]:\n",
    "        result.append(list1.pop(-1)) \n",
    "else:\n",
    "    result.append(list2.pop(-1)) \n",
    "#return"
   ]
  },
  {
   "cell_type": "markdown",
   "metadata": {},
   "source": [
    "Note: the solution above is kind of cute, but unforunately list.pop(0) is not constant time with the standard python list implementation, so the above is not strictly linear time. An alternate approach uses pop(-1) to remove the endmost elements from each list, building a solution list which is backwards. Then use reversed() to put the result back in the correct order. That solution works in linear time, but is more ugly."
   ]
  },
  {
   "cell_type": "markdown",
   "metadata": {},
   "source": [
    "Simple provided test() function used in main() to print what each function returns vs. what it's supposed to return."
   ]
  },
  {
   "cell_type": "code",
   "execution_count": null,
   "metadata": {
    "collapsed": true
   },
   "outputs": [],
   "source": [
    "def test(got, expected):\n",
    "    if got == expected:\n",
    "        prefix = ' OK '\n",
    "    else:\n",
    "        prefix = '  X '\n",
    "    print '%s got: %s expected: %s' % (prefix, repr(got), repr(expected))"
   ]
  },
  {
   "cell_type": "markdown",
   "metadata": {},
   "source": [
    "Calls the above functions with interesting inputs."
   ]
  },
  {
   "cell_type": "code",
   "execution_count": 33,
   "metadata": {
    "collapsed": true
   },
   "outputs": [],
   "source": [
    "def main():\n",
    "    print 'remove_adjacent'\n",
    "    test(remove_adjacent([1, 2, 2, 3]), [1, 2, 3])\n",
    "    test(remove_adjacent([2, 2, 3, 3, 3]), [2, 3])\n",
    "    test(remove_adjacent([]), [])\n",
    "\n",
    "    print\n",
    "    print 'linear_merge'\n",
    "    test(linear_merge(['aa', 'xx', 'zz'], ['bb', 'cc']),\n",
    "        ['aa', 'bb', 'cc', 'xx', 'zz'])\n",
    "    test(linear_merge(['aa', 'xx'], ['bb', 'cc', 'zz']),\n",
    "        ['aa', 'bb', 'cc', 'xx', 'zz'])\n",
    "    test(linear_merge(['aa', 'aa'], ['aa', 'bb', 'bb']),\n",
    "        ['aa', 'aa', 'aa', 'bb', 'bb'])"
   ]
  },
  {
   "cell_type": "markdown",
   "metadata": {
    "collapsed": true
   },
   "source": [
    "We call the main function."
   ]
  },
  {
   "cell_type": "code",
   "execution_count": null,
   "metadata": {
    "collapsed": true
   },
   "outputs": [],
   "source": [
    "main()"
   ]
  }
 ],
 "metadata": {
  "kernelspec": {
   "display_name": "Python 2",
   "language": "python",
   "name": "python2"
  },
  "language_info": {
   "codemirror_mode": {
    "name": "ipython",
    "version": 2
   },
   "file_extension": ".py",
   "mimetype": "text/x-python",
   "name": "python",
   "nbconvert_exporter": "python",
   "pygments_lexer": "ipython2",
   "version": "2.7.11"
  }
 },
 "nbformat": 4,
 "nbformat_minor": 0
}
